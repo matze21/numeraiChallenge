{
 "cells": [
  {
   "cell_type": "code",
   "execution_count": null,
   "metadata": {},
   "outputs": [],
   "source": [
    "%matplotlib notebook\n",
    "import pandas as pd\n",
    "import matplotlib.pyplot as plt\n",
    "import numpy as np"
   ]
  },
  {
   "cell_type": "code",
   "execution_count": null,
   "metadata": {},
   "outputs": [],
   "source": [
    "training_data = pd.read_csv(\"data/numerai_datasets_04.04.21/numerai_training_data.csv\")\n",
    "training_data_2 = pd.read_csv(\"data/numerai_training_data.csv\")"
   ]
  },
  {
   "cell_type": "code",
   "execution_count": null,
   "metadata": {},
   "outputs": [],
   "source": [
    "print(training_data.shape, training_data_2.shape)\n",
    "print(np.sum(training_data.target - training_data_2.target))"
   ]
  },
  {
   "cell_type": "code",
   "execution_count": null,
   "metadata": {},
   "outputs": [],
   "source": [
    "feature_cols = training_data.columns[training_data.columns.str.startswith('feature')]\n",
    "labelArray = [0, 0.25, 0.5, 0.75, 1]\n",
    "counter = 0\n",
    "for i in feature_cols:\n",
    "    print(i,counter)\n",
    "    counter +=1\n",
    "    \n",
    "feature_cols_wisdom = training_data.columns[training_data.columns.str.startswith('feature_w')]      #264 - 309\n",
    "feature_cols_consti = training_data.columns[training_data.columns.str.startswith('feature_con')]    #150 - 263\n",
    "feature_cols_dexter = training_data.columns[training_data.columns.str.startswith('feature_dex')]    #136 - 149\n",
    "feature_cols_streng = training_data.columns[training_data.columns.str.startswith('feature_str')]    #98  - 135\n",
    "feature_cols_charis = training_data.columns[training_data.columns.str.startswith('feature_cha')]    #13  - 97\n",
    "feature_cols_intell = training_data.columns[training_data.columns.str.startswith('feature_int')]    #0   - 12\n",
    "\n"
   ]
  },
  {
   "cell_type": "code",
   "execution_count": null,
   "metadata": {},
   "outputs": [],
   "source": [
    "def plotSurfaceOfLabel(label):\n",
    "    classSpace = training_data.loc[training_data.target == label]\n",
    "    featureSpace = classSpace[feature_cols].reset_index().drop(['index'], axis = 1).to_numpy()\n",
    "\n",
    "    #histogram/ probability over all features for every class\n",
    "\n",
    "    #iterate over features\n",
    "    n_data, n_features = featureSpace.shape\n",
    "    n_values   = 5\n",
    "    features = np.zeros((n_features, n_values))\n",
    "    for j in range(n_data):\n",
    "        for i in range(n_features):\n",
    "                curLabel = featureSpace[j,i]\n",
    "                if curLabel in labelArray:\n",
    "                    features[i,int(curLabel*4)] += 1/n_data\n",
    "                else:\n",
    "                    print(curLabel)\n",
    "         \n",
    "                \n",
    "                    \n",
    "    \n",
    "    featureVector = np.linspace(0,n_features-1, n_features)\n",
    "    values = np.array(labelArray)\n",
    "    \n",
    "    \n",
    "    X, Y = np.meshgrid(values, featureVector)\n",
    "    \n",
    "    \n",
    "    fig = plt.figure()\n",
    "    #ax = plt.subplot(3,2,label*4+1)\n",
    "    ax = plt.axes(projection='3d')\n",
    "    ax.plot_surface(X, Y, features)\n",
    "    #ax.set_titel(label)\n",
    "    #ax.scatter(featureVector, values, features)\n",
    "    plt.show()\n",
    "    \n",
    "    return features\n",
    "        \n",
    "\n",
    "featureVector0 = plotSurfaceOfLabel(0)"
   ]
  },
  {
   "cell_type": "code",
   "execution_count": null,
   "metadata": {},
   "outputs": [],
   "source": [
    "featureVector025 = plotSurfaceOfLabel(0.25)"
   ]
  },
  {
   "cell_type": "code",
   "execution_count": null,
   "metadata": {},
   "outputs": [],
   "source": [
    "featureVector05 = plotSurfaceOfLabel(0.5)"
   ]
  },
  {
   "cell_type": "code",
   "execution_count": null,
   "metadata": {},
   "outputs": [],
   "source": [
    "featureVector075 = plotSurfaceOfLabel(0.75)"
   ]
  },
  {
   "cell_type": "code",
   "execution_count": null,
   "metadata": {},
   "outputs": [],
   "source": [
    "featureVector1 = plotSurfaceOfLabel(1)"
   ]
  },
  {
   "cell_type": "code",
   "execution_count": null,
   "metadata": {},
   "outputs": [],
   "source": [
    "diff_feat0_feat025 = featureVector0 - featureVector025  \n",
    "n_features = featureVector0.shape[0]\n",
    "featureVector = np.linspace(0,n_features-1, n_features)\n",
    "values = np.array(labelArray)\n",
    "X, Y = np.meshgrid(values, featureVector)\n",
    "\n",
    "fig = plt.figure()\n",
    "ax = plt.axes(projection='3d')\n",
    "ax.plot_surface(X, Y, diff_feat0_feat025)\n",
    "plt.show()"
   ]
  },
  {
   "cell_type": "code",
   "execution_count": null,
   "metadata": {},
   "outputs": [],
   "source": [
    "diff_feat0_feat05 = featureVector0 - featureVector05  \n",
    "n_features = featureVector0.shape[0]\n",
    "featureVector = np.linspace(0,n_features-1, n_features)\n",
    "values = np.array(labelArray)\n",
    "X, Y = np.meshgrid(values, featureVector)\n",
    "\n",
    "fig = plt.figure()\n",
    "ax = plt.axes(projection='3d')\n",
    "ax.plot_surface(X, Y, diff_feat0_feat05)\n",
    "plt.show()"
   ]
  },
  {
   "cell_type": "code",
   "execution_count": null,
   "metadata": {},
   "outputs": [],
   "source": [
    "diff_feat0_feat075 = featureVector0 - featureVector075  \n",
    "n_features = featureVector0.shape[0]\n",
    "featureVector = np.linspace(0,n_features-1, n_features)\n",
    "values = np.array(labelArray)\n",
    "X, Y = np.meshgrid(values, featureVector)\n",
    "\n",
    "fig = plt.figure()\n",
    "ax = plt.axes(projection='3d')\n",
    "ax.plot_surface(X, Y, diff_feat0_feat075)\n",
    "plt.show()"
   ]
  },
  {
   "cell_type": "code",
   "execution_count": null,
   "metadata": {},
   "outputs": [],
   "source": [
    "diff_feat0_feat01 = featureVector0 - featureVector1\n",
    "n_features = featureVector0.shape[0]\n",
    "featureVector = np.linspace(0,n_features-1, n_features)\n",
    "values = np.array(labelArray)\n",
    "X, Y = np.meshgrid(values, featureVector)\n",
    "\n",
    "fig = plt.figure()\n",
    "ax = plt.axes(projection='3d')\n",
    "ax.plot_surface(X, Y, diff_feat0_feat01)\n",
    "plt.show()"
   ]
  },
  {
   "cell_type": "code",
   "execution_count": null,
   "metadata": {},
   "outputs": [],
   "source": [
    "diff_feat025_feat05 = featureVector025 - featureVector05\n",
    "n_features = featureVector0.shape[0]\n",
    "featureVector = np.linspace(0,n_features-1, n_features)\n",
    "values = np.array(labelArray)\n",
    "X, Y = np.meshgrid(values, featureVector)\n",
    "\n",
    "fig = plt.figure()\n",
    "ax = plt.axes(projection='3d')\n",
    "ax.plot_surface(X, Y, diff_feat025_feat05)\n",
    "plt.show()"
   ]
  },
  {
   "cell_type": "code",
   "execution_count": null,
   "metadata": {},
   "outputs": [],
   "source": [
    "diff_feat025_feat075 = featureVector025 - featureVector075\n",
    "n_features = featureVector0.shape[0]\n",
    "featureVector = np.linspace(0,n_features-1, n_features)\n",
    "values = np.array(labelArray)\n",
    "X, Y = np.meshgrid(values, featureVector)\n",
    "\n",
    "fig = plt.figure()\n",
    "ax = plt.axes(projection='3d')\n",
    "ax.plot_surface(X, Y, diff_feat025_feat075)\n",
    "plt.show()"
   ]
  }
 ],
 "metadata": {
  "kernelspec": {
   "display_name": "Python 3",
   "language": "python",
   "name": "python3"
  },
  "language_info": {
   "codemirror_mode": {
    "name": "ipython",
    "version": 3
   },
   "file_extension": ".py",
   "mimetype": "text/x-python",
   "name": "python",
   "nbconvert_exporter": "python",
   "pygments_lexer": "ipython3",
   "version": "3.7.3"
  }
 },
 "nbformat": 4,
 "nbformat_minor": 2
}
