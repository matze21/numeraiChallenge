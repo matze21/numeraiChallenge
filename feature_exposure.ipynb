{
 "cells": [
  {
   "cell_type": "code",
   "execution_count": null,
   "metadata": {},
   "outputs": [],
   "source": [
    "from scipy.stats import spearmanr\n",
    "import numpy as np\n",
    "import pandas as pd"
   ]
  },
  {
   "cell_type": "code",
   "execution_count": null,
   "metadata": {},
   "outputs": [],
   "source": [
    "predictions = pd.read_csv(\"predictions_040421.csv\")"
   ]
  },
  {
   "cell_type": "code",
   "execution_count": null,
   "metadata": {},
   "outputs": [],
   "source": [
    "tournament_data = pd.read_csv(\"data/numerai_datasets_04.04.21/numerai_tournament_data.csv\")"
   ]
  },
  {
   "cell_type": "code",
   "execution_count": null,
   "metadata": {},
   "outputs": [],
   "source": [
    "predictionsAppended = tournament_data.merge(predictions)#, tournament_data], axis = 1)"
   ]
  },
  {
   "cell_type": "code",
   "execution_count": null,
   "metadata": {},
   "outputs": [],
   "source": [
    "TOURNAMENT_NAME = \"kazutsugi\"\n",
    "PREDICTION_NAME = f\"prediction_{TOURNAMENT_NAME}\"\n",
    "\n",
    "def feature_exposures(df):\n",
    "    feature_names = [f for f in df.columns\n",
    "                     if f.startswith(\"feature\")]\n",
    "    #print(feature_names)\n",
    "    exposures = []\n",
    "    for f in feature_names:\n",
    "        fe = spearmanr(df[PREDICTION_NAME], df[f])[0]\n",
    "        #print(fe)\n",
    "        exposures.append(fe)\n",
    "    return np.array(exposures)\n",
    "\n",
    "\n",
    "def max_feature_exposure(df):\n",
    "    return np.max(np.abs(feature_exposures(df)))\n",
    "\n",
    "def max_feature_exposure(featureExposure):\n",
    "    return np.max(np.abs(featureExposure))\n",
    "\n",
    "\n",
    "def feature_exposure(df):\n",
    "    return np.sqrt(np.mean(np.square(feature_exposures(df))))\n",
    "\n",
    "def feature_exposure(featureExposure):\n",
    "    return np.sqrt(np.mean(np.square(featureExposure)))"
   ]
  },
  {
   "cell_type": "code",
   "execution_count": null,
   "metadata": {},
   "outputs": [],
   "source": [
    "featureExposures = feature_exposures(predictionsAppended)"
   ]
  },
  {
   "cell_type": "code",
   "execution_count": null,
   "metadata": {},
   "outputs": [],
   "source": [
    "maxExposure = max_feature_exposure(featureExposures)\n",
    "featureExposureArray = feature_exposure(featureExposures)\n",
    "\n",
    "print(maxExposure)\n",
    "print(featureExposureArray)"
   ]
  },
  {
   "cell_type": "code",
   "execution_count": null,
   "metadata": {},
   "outputs": [],
   "source": []
  }
 ],
 "metadata": {
  "kernelspec": {
   "display_name": "Python 3",
   "language": "python",
   "name": "python3"
  },
  "language_info": {
   "codemirror_mode": {
    "name": "ipython",
    "version": 3
   },
   "file_extension": ".py",
   "mimetype": "text/x-python",
   "name": "python",
   "nbconvert_exporter": "python",
   "pygments_lexer": "ipython3",
   "version": "3.7.3"
  }
 },
 "nbformat": 4,
 "nbformat_minor": 2
}
