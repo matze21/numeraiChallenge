{
 "cells": [
  {
   "cell_type": "code",
   "execution_count": null,
   "metadata": {},
   "outputs": [],
   "source": [
    "import pandas as pd\n",
    "import sklearn.linear_model\n",
    "\n",
    "# import keras_deepCNN\n",
    "# from tensorflow.keras.layers import Input, Add, Dense, Activation, ZeroPadding2D, BatchNormalization, Flatten, Conv2D, AveragePooling2D, MaxPooling2D, GlobalMaxPooling2D\n",
    "# from tensorflow.keras.models import Model, load_model\n",
    "# from tensorflow.keras.optimizers import Adam\n",
    "import matplotlib.pyplot as plt\n",
    "import numpy as np\n",
    "from sklearn.utils import shuffle\n",
    "import time\n",
    "\n",
    "# gradient boosting for classification in scikit-learn\n",
    "from numpy import mean\n",
    "from numpy import std\n",
    "from sklearn.datasets import make_classification\n",
    "from sklearn.ensemble import GradientBoostingClassifier\n",
    "from sklearn.model_selection import cross_val_score\n",
    "from sklearn.metrics import accuracy_score\n",
    "from sklearn.model_selection import RepeatedStratifiedKFold\n",
    "from matplotlib import pyplot\n",
    "import sklearn.metrics as metrics\n",
    "from sklearn.preprocessing import LabelEncoder \n",
    "from xgboost import XGBClassifier\n",
    "from sklearn.externals import joblib"
   ]
  },
  {
   "cell_type": "code",
   "execution_count": null,
   "metadata": {},
   "outputs": [],
   "source": [
    "# Load from file\n",
    "joblib_file = \"joblib_model_gradientBoosting_train70_dev36.pkl\"\n",
    "joblib_model = joblib.load(joblib_file)\n"
   ]
  },
  {
   "cell_type": "code",
   "execution_count": null,
   "metadata": {},
   "outputs": [],
   "source": [
    "tournament_data = pd.read_csv(\"data/numerai_datasets_28.03.21/numerai_tournament_data.csv\")\n",
    "validation_data = tournament_data.loc[tournament_data.data_type == 'validation']"
   ]
  },
  {
   "cell_type": "code",
   "execution_count": null,
   "metadata": {},
   "outputs": [],
   "source": [
    "prediction_data = tournament_data.loc[tournament_data.data_type == 'live']\n",
    "\n",
    "feature_cols = prediction_data.columns[prediction_data.columns.str.startswith('feature')]\n",
    "X_val = validation_data[feature_cols].reset_index().drop(['index'], axis = 1).to_numpy()\n",
    "Y_val = validation_data.target.to_numpy()\n",
    "\n",
    "X_pred = prediction_data[feature_cols].reset_index().drop(['index'], axis = 1).to_numpy()\n",
    "\n",
    "y_val_pred = joblib_model.predict(X_val)\n",
    "corVal = 0\n",
    "allTrainSamples = len(y_val_pred)\n",
    "for i in range(allTrainSamples):\n",
    "    if y_val_pred[i] == Y_val[i]:\n",
    "        corVal +=1\n",
    "accuracy = corVal / allTrainSamples\n",
    "\n",
    "print(\"validation accuracy = \", accuracy)"
   ]
  },
  {
   "cell_type": "code",
   "execution_count": null,
   "metadata": {},
   "outputs": [],
   "source": [
    "X_tournament = tournament_data[feature_cols].reset_index().drop(['index'], axis = 1).to_numpy()\n",
    "\n",
    "Y_pred = joblib_model.predict(X_tournament)\n",
    "\n",
    "predictions_df = tournament_data[\"id\"].to_frame()\n",
    "predictions_df[\"prediction_kazutsugi\"] = Y_pred\n",
    "predictions_df.head()\n",
    "\n",
    "predictions_df.to_csv(\"predictions.csv\", index=False)"
   ]
  },
  {
   "cell_type": "code",
   "execution_count": null,
   "metadata": {},
   "outputs": [],
   "source": [
    "import numerapi\n",
    "public_id  = \"5PKOLW4ZJQDSMTC2QWPPG2QEHB427MFJ\"\n",
    "secret_key = \"I26YRNIBRQF47E6SO6VMLTLGN4O2MHL6ADUB4JNNQAYW3DPCH6JKY4HS5R2PYKLB\"\n",
    "model_id   = \"e994d440-764d-495d-8d60-7dbac3ac615b\"\n",
    "napi = numerapi.NumerAPI(public_id=public_id, secret_key=secret_key)\n",
    "submission_id = napi.upload_predictions(\"predictions.csv\", model_id=model_id)"
   ]
  },
  {
   "cell_type": "code",
   "execution_count": null,
   "metadata": {},
   "outputs": [],
   "source": [
    "predictions_df.prediction_kazutsugi.hist(bins=10)"
   ]
  }
 ],
 "metadata": {
  "kernelspec": {
   "display_name": "Python 3",
   "language": "python",
   "name": "python3"
  },
  "language_info": {
   "codemirror_mode": {
    "name": "ipython",
    "version": 3
   },
   "file_extension": ".py",
   "mimetype": "text/x-python",
   "name": "python",
   "nbconvert_exporter": "python",
   "pygments_lexer": "ipython3",
   "version": "3.7.3"
  }
 },
 "nbformat": 4,
 "nbformat_minor": 2
}
