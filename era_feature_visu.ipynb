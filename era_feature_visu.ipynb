{
 "cells": [
  {
   "cell_type": "code",
   "execution_count": null,
   "metadata": {},
   "outputs": [],
   "source": [
    "%matplotlib notebook\n",
    "from xgboost import XGBRegressor, XGBClassifier\n",
    "import xgboost as xgb\n",
    "import pandas as pd\n",
    "import numpy as np\n",
    "import matplotlib.pyplot as plt\n",
    "import time\n",
    "from sklearn.utils import shuffle\n",
    "from sklearn.utils import class_weight\n",
    "import tensorflow as tf\n",
    "from tensorflow.keras.layers import Input, Dense, BatchNormalization, Dropout, Conv1D, Flatten, MaxPooling2D\n",
    "from tensorflow.keras.models import Model\n",
    "from tensorflow.keras.optimizers import Adam\n",
    "from tensorflow.keras import regularizers\n",
    "from sklearn.model_selection import train_test_split\n",
    "from datetime import date, timedelta\n",
    "import os\n",
    "\n",
    "import neuralNets\n",
    "\n",
    "def oneHotEncodeData3Classes(targets):\n",
    "    j=0\n",
    "    Y_val = np.zeros((targets.shape[0], 3))\n",
    "    for j in range(targets.shape[0]):\n",
    "        if targets[j] == 0:\n",
    "            Y_val[j, 0] = 1\n",
    "        elif targets[j] == 1:\n",
    "            Y_val[j, 1] = 1\n",
    "        elif targets[j] == 2:\n",
    "            Y_val[j, 2] = 1\n",
    "        else:\n",
    "            print(\"something went wrong, new class\", targets[j])\n",
    "    return Y_val\n",
    "\n",
    "labelArray = [0, 0.25, 0.5, 0.75, 1]"
   ]
  },
  {
   "cell_type": "code",
   "execution_count": null,
   "metadata": {},
   "outputs": [],
   "source": [
    "training_data = pd.read_csv(\"data/numerai_datasets_25.04.21/numerai_training_data.csv\")"
   ]
  },
  {
   "cell_type": "code",
   "execution_count": null,
   "metadata": {},
   "outputs": [],
   "source": [
    "feature_cols_wisdom = training_data.columns[training_data.columns.str.startswith('feature_w')]      #264 - 309\n",
    "feature_cols_consti = training_data.columns[training_data.columns.str.startswith('feature_con')]    #150 - 263\n",
    "feature_cols_dexter = training_data.columns[training_data.columns.str.startswith('feature_dex')]    #136 - 149\n",
    "feature_cols_streng = training_data.columns[training_data.columns.str.startswith('feature_str')]    #98  - 135\n",
    "feature_cols_charis = training_data.columns[training_data.columns.str.startswith('feature_cha')]    #13  - 97\n",
    "feature_cols_intell = training_data.columns[training_data.columns.str.startswith('feature_int')]    #0   - 12\n",
    "features = ['feature_w', 'feature_con','feature_dex','feature_str','feature_cha','feature_int']"
   ]
  },
  {
   "cell_type": "code",
   "execution_count": null,
   "metadata": {},
   "outputs": [],
   "source": [
    "era1 = training_data.loc[training_data.era == 'era1']\n",
    "\n",
    "for feature in features:\n",
    "    dataArray = []\n",
    "    for classLabel in labelArray:\n",
    "        eraClass   = era1.loc[era1.target == classLabel]\n",
    "    \n",
    "        feature_cols = eraClass.columns[training_data.columns.str.startswith(feature)]\n",
    "        feature_data = eraClass[feature_cols].reset_index().drop(['index'], axis = 1).to_numpy()#[0:1,:]\n",
    "        dataArray.append(plotSurfaceOfLabel(feature_data, False))\n",
    "    n_features = dataArray[0].shape[0]\n",
    "    feature_count = np.linspace(0, n_features-1, n_features)\n",
    "    fig = plt.figure()\n",
    "    for i in range(5):\n",
    "        plt.plot(feature_count, np.argmax(dataArray[i], axis = 1))\n",
    "\n",
    "    plt.legend(labelArray)\n",
    "    plt.show()\n",
    "    "
   ]
  },
  {
   "cell_type": "code",
   "execution_count": null,
   "metadata": {},
   "outputs": [],
   "source": [
    "n_features = dataArray[0].shape[0]\n",
    "feature_count = np.linspace(0, n_features-1, n_features)\n",
    "fig = plt.figure()\n",
    "for i in range(5):\n",
    "    plt.plot(feature_count, np.argmax(dataArray[i], axis = 1))\n",
    "\n",
    "plt.legend(labelArray)\n",
    "plt.show()"
   ]
  },
  {
   "cell_type": "code",
   "execution_count": null,
   "metadata": {},
   "outputs": [],
   "source": [
    "#plot variance for every class\n",
    "n_features = dataArray[0].shape[0]\n",
    "feature_count = np.linspace(0, n_features-1, n_features)\n",
    "\n",
    "for i in range(5):\n",
    "    fig = plt.figure()\n",
    "    plt.plot(feature_count, np.argmax(dataArray[i], axis = 1))\n",
    "\n",
    "plt.legend(labelArray)\n",
    "plt.show()"
   ]
  },
  {
   "cell_type": "code",
   "execution_count": null,
   "metadata": {},
   "outputs": [],
   "source": [
    "def plotSurfaceOfLabel(feature_data, render):\n",
    "    #iterate over features\n",
    "    n_data, n_features = feature_data.shape\n",
    "    n_values   = 5\n",
    "    features = np.zeros((n_features, n_values))\n",
    "    for j in range(n_data):\n",
    "        for i in range(n_features):\n",
    "                curLabel = feature_data[j,i]\n",
    "                if curLabel in labelArray:\n",
    "                    features[i,int(curLabel*4)] += 1#/n_data\n",
    "                else:\n",
    "                    print(curLabel)\n",
    "         \n",
    "    if render:\n",
    "        featureVector = np.linspace(0,n_features-1, n_features)\n",
    "        values = np.array(labelArray)\n",
    "\n",
    "        X, Y = np.meshgrid(values, featureVector)\n",
    "\n",
    "        fig = plt.figure()\n",
    "        ax = plt.axes(projection='3d')\n",
    "        ax.plot_surface(X, Y, features)\n",
    "        plt.show()\n",
    "    \n",
    "    return features"
   ]
  }
 ],
 "metadata": {
  "kernelspec": {
   "display_name": "Python 3",
   "language": "python",
   "name": "python3"
  },
  "language_info": {
   "codemirror_mode": {
    "name": "ipython",
    "version": 3
   },
   "file_extension": ".py",
   "mimetype": "text/x-python",
   "name": "python",
   "nbconvert_exporter": "python",
   "pygments_lexer": "ipython3",
   "version": "3.7.3"
  }
 },
 "nbformat": 4,
 "nbformat_minor": 2
}
